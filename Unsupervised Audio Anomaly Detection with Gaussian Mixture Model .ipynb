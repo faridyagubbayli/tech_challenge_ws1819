{
 "cells": [
  {
   "cell_type": "markdown",
   "metadata": {},
   "source": [
    "# Unsupervised Audio Anomaly Detection using Gaussian Mixture Model\n",
    "This notebook demonstrates \"Unsupervised Audio Anoamly Detection\" using Gaussian Mixture Model and Isotronic Regression."
   ]
  },
  {
   "cell_type": "code",
   "execution_count": 2,
   "metadata": {},
   "outputs": [],
   "source": [
    "import scipy\n",
    "import scipy.fftpack\n",
    "import numpy as np\n",
    "from matplotlib import pyplot as plt\n",
    "import scipy.io.wavfile as wavfile\n",
    "from sklearn import svm\n",
    "from sklearn import preprocessing\n",
    "import multiprocessing\n",
    "import librosa\n",
    "from scipy.signal import welch\n",
    "from multiprocessing import Pool\n",
    "from tqdm import tqdm_notebook\n",
    "import time\n",
    "from sklearn.preprocessing import StandardScaler\n",
    "\n",
    "SAMPLE_RATE = 32000 #sampling rate of audio\n",
    "SEGMENT_TIME = 3 # in seconds, duration of each split"
   ]
  },
  {
   "cell_type": "code",
   "execution_count": 3,
   "metadata": {},
   "outputs": [],
   "source": [
    "# Function to extract features from input signal(in our case Audio). \n",
    "# Various features are extracted using Librosa and concatenated as a 1D Array\n",
    "def extract_feature(X):\n",
    "    sample_rate = SAMPLE_RATE\n",
    "    \n",
    "    stft = np.abs(librosa.stft(X))\n",
    "    mfccs = np.mean(librosa.feature.mfcc(y=X, sr=sample_rate, n_mfcc=40).T,axis=0)\n",
    "    chroma = np.mean(librosa.feature.chroma_stft(S=stft, sr=sample_rate).T,axis=0)\n",
    "    mel = np.mean(librosa.feature.melspectrogram(X, sr=sample_rate).T,axis=0)\n",
    "    contrast = np.mean(librosa.feature.spectral_contrast(S=stft, sr=sample_rate).T,axis=0)\n",
    "    tonnetz = np.mean(librosa.feature.tonnetz(y=librosa.effects.harmonic(X), sr=sample_rate).T,axis=0)\n",
    "    return np.hstack([mfccs,chroma,mel,contrast,tonnetz])"
   ]
  },
  {
   "cell_type": "code",
   "execution_count": 4,
   "metadata": {},
   "outputs": [],
   "source": [
    "# Function to read file, split into segments and retrieve features for each segment\n",
    "def read_process_file(filename):\n",
    "    print(\"Processing file: \", filename)\n",
    "    \n",
    "    # Read file into memory\n",
    "    signal, fs_rate = librosa.core.load(filename, SAMPLE_RATE)\n",
    "    N = len(signal)\n",
    "    duration = int(SEGMENT_TIME * fs_rate)\n",
    "\n",
    "    # Split input signal into segments\n",
    "    signal = signal[: N - (N % duration)]\n",
    "    samples = np.reshape(signal, (-1, duration))\n",
    "    \n",
    "    # Process each segment to get features\n",
    "    with Pool(4) as p: # Use 4 threads to accellerate processing\n",
    "         features = list(tqdm_notebook(p.imap(extract_feature, samples), total=len(samples)))\n",
    "\n",
    "    return np.array(features).astype('float')"
   ]
  },
  {
   "cell_type": "code",
   "execution_count": 5,
   "metadata": {},
   "outputs": [],
   "source": [
    "# Build single dataset with size of [N, F], \n",
    "# where N is number of segments and F is number of features for each segment\n",
    "def get_files(dirname, files):\n",
    "    X = None\n",
    "    for file in files:\n",
    "        samples_features = read_process_file(dirname + file)\n",
    "        if X is None:\n",
    "            X = samples_features\n",
    "        else:\n",
    "            X = np.vstack((X, samples_features))\n",
    "    return X"
   ]
  },
  {
   "cell_type": "code",
   "execution_count": 7,
   "metadata": {},
   "outputs": [
    {
     "name": "stdout",
     "output_type": "stream",
     "text": [
      "Processing file:  sound_recordings/polishing_machine_single.wav\n"
     ]
    },
    {
     "data": {
      "application/vnd.jupyter.widget-view+json": {
       "model_id": "d378ac9687bd45c4b94d8409b0c13860",
       "version_major": 2,
       "version_minor": 0
      },
      "text/plain": [
       "HBox(children=(IntProgress(value=0, max=150), HTML(value='')))"
      ]
     },
     "metadata": {},
     "output_type": "display_data"
    },
    {
     "name": "stdout",
     "output_type": "stream",
     "text": [
      "\n",
      "Processing file:  sound_recordings/vertical_cutter_machine_single.wav\n"
     ]
    },
    {
     "data": {
      "application/vnd.jupyter.widget-view+json": {
       "model_id": "9b7b2bd34dca48d5914afd8e25d0cc0b",
       "version_major": 2,
       "version_minor": 0
      },
      "text/plain": [
       "HBox(children=(IntProgress(value=0, max=89), HTML(value='')))"
      ]
     },
     "metadata": {},
     "output_type": "display_data"
    },
    {
     "name": "stdout",
     "output_type": "stream",
     "text": [
      "\n",
      "Processing file:  sound_recordings/horizontal_cutter_machine_single.wav\n"
     ]
    },
    {
     "data": {
      "application/vnd.jupyter.widget-view+json": {
       "model_id": "48f7386bc0874a56b129fd39d0beed01",
       "version_major": 2,
       "version_minor": 0
      },
      "text/plain": [
       "HBox(children=(IntProgress(value=0, max=117), HTML(value='')))"
      ]
     },
     "metadata": {},
     "output_type": "display_data"
    },
    {
     "name": "stdout",
     "output_type": "stream",
     "text": [
      "\n",
      "Processing file:  sound_recordings/around_all.wav\n"
     ]
    },
    {
     "data": {
      "application/vnd.jupyter.widget-view+json": {
       "model_id": "18e67219bf8b4052b5bf536b5659c652",
       "version_major": 2,
       "version_minor": 0
      },
      "text/plain": [
       "HBox(children=(IntProgress(value=0, max=101), HTML(value='')))"
      ]
     },
     "metadata": {},
     "output_type": "display_data"
    },
    {
     "name": "stdout",
     "output_type": "stream",
     "text": [
      "\n",
      "Processing file:  sound_recordings/main_machine_cut_single.wav\n"
     ]
    },
    {
     "data": {
      "application/vnd.jupyter.widget-view+json": {
       "model_id": "5e7387ee48334eb78308e5ebcf6a0906",
       "version_major": 2,
       "version_minor": 0
      },
      "text/plain": [
       "HBox(children=(IntProgress(value=0, max=265), HTML(value='')))"
      ]
     },
     "metadata": {},
     "output_type": "display_data"
    },
    {
     "name": "stdout",
     "output_type": "stream",
     "text": [
      "\n",
      "Processing file:  sound_recordings/main_machine_cut_around.wav\n"
     ]
    },
    {
     "data": {
      "application/vnd.jupyter.widget-view+json": {
       "model_id": "12c594d58e144327b30ce28ae212ee8b",
       "version_major": 2,
       "version_minor": 0
      },
      "text/plain": [
       "HBox(children=(IntProgress(value=0, max=297), HTML(value='')))"
      ]
     },
     "metadata": {},
     "output_type": "display_data"
    },
    {
     "name": "stdout",
     "output_type": "stream",
     "text": [
      "\n",
      "Processing file:  sound_recordings/main_machine_idle_single.wav\n"
     ]
    },
    {
     "data": {
      "application/vnd.jupyter.widget-view+json": {
       "model_id": "5083054896ad4776a782fe1cec43dab5",
       "version_major": 2,
       "version_minor": 0
      },
      "text/plain": [
       "HBox(children=(IntProgress(value=0, max=115), HTML(value='')))"
      ]
     },
     "metadata": {},
     "output_type": "display_data"
    },
    {
     "name": "stdout",
     "output_type": "stream",
     "text": [
      "\n",
      "Processing file:  sound_recordings/main_machine_idle_around.wav\n"
     ]
    },
    {
     "data": {
      "application/vnd.jupyter.widget-view+json": {
       "model_id": "0b58706f5322427fa69c4840758ba58b",
       "version_major": 2,
       "version_minor": 0
      },
      "text/plain": [
       "HBox(children=(IntProgress(value=0, max=57), HTML(value='')))"
      ]
     },
     "metadata": {},
     "output_type": "display_data"
    },
    {
     "name": "stdout",
     "output_type": "stream",
     "text": [
      "\n"
     ]
    }
   ],
   "source": [
    "# Specify audio files with normal sound recording\n",
    "# Used for training, testing and validation\n",
    "normal_file_dir = 'sound_recordings/'\n",
    "normal_files = [\n",
    "    'polishing_machine_single.wav',\n",
    "    'vertical_cutter_machine_single.wav',\n",
    "    'horizontal_cutter_machine_single.wav',\n",
    "    'around_all.wav',\n",
    "    'main_machine_cut_single.wav',\n",
    "    'main_machine_cut_around.wav',\n",
    "    'main_machine_idle_single.wav',\n",
    "    'main_machine_idle_around.wav'\n",
    "]\n",
    "\n",
    "# Append label to each segment\n",
    "X_normal = get_files(normal_file_dir, normal_files)\n",
    "normal_labels = np.ones((X_normal.shape[0], 1))\n",
    "X_normal = np.hstack((X_normal, normal_labels))"
   ]
  },
  {
   "cell_type": "code",
   "execution_count": 9,
   "metadata": {
    "scrolled": true
   },
   "outputs": [
    {
     "name": "stdout",
     "output_type": "stream",
     "text": [
      "Processing file:  sound_recordings/metal/metal_cut_1.wav\n"
     ]
    },
    {
     "data": {
      "application/vnd.jupyter.widget-view+json": {
       "model_id": "7b716214328d4c35b6ea0db73692bb2b",
       "version_major": 2,
       "version_minor": 0
      },
      "text/plain": [
       "HBox(children=(IntProgress(value=0, max=10), HTML(value='')))"
      ]
     },
     "metadata": {},
     "output_type": "display_data"
    },
    {
     "name": "stdout",
     "output_type": "stream",
     "text": [
      "\n",
      "Processing file:  sound_recordings/metal/metal_cut_2.wav\n"
     ]
    },
    {
     "data": {
      "application/vnd.jupyter.widget-view+json": {
       "model_id": "e63d280025ad46a59cecc7416a5facbe",
       "version_major": 2,
       "version_minor": 0
      },
      "text/plain": [
       "HBox(children=(IntProgress(value=0, max=5), HTML(value='')))"
      ]
     },
     "metadata": {},
     "output_type": "display_data"
    },
    {
     "name": "stdout",
     "output_type": "stream",
     "text": [
      "\n",
      "Processing file:  sound_recordings/metal/metal_cut_3.wav\n"
     ]
    },
    {
     "data": {
      "application/vnd.jupyter.widget-view+json": {
       "model_id": "313dba259dc64f9fbc2397c141613b4f",
       "version_major": 2,
       "version_minor": 0
      },
      "text/plain": [
       "HBox(children=(IntProgress(value=0, max=6), HTML(value='')))"
      ]
     },
     "metadata": {},
     "output_type": "display_data"
    },
    {
     "name": "stdout",
     "output_type": "stream",
     "text": [
      "\n",
      "Processing file:  sound_recordings/metal/metal_cut_5.wav\n"
     ]
    },
    {
     "data": {
      "application/vnd.jupyter.widget-view+json": {
       "model_id": "491fe3f00a3a419280455824c04db45c",
       "version_major": 2,
       "version_minor": 0
      },
      "text/plain": [
       "HBox(children=(IntProgress(value=0, max=3), HTML(value='')))"
      ]
     },
     "metadata": {},
     "output_type": "display_data"
    },
    {
     "name": "stdout",
     "output_type": "stream",
     "text": [
      "\n",
      "Processing file:  sound_recordings/metal/metal_cut_6.wav\n"
     ]
    },
    {
     "data": {
      "application/vnd.jupyter.widget-view+json": {
       "model_id": "d1d1954075714781b3da33857f6e71ca",
       "version_major": 2,
       "version_minor": 0
      },
      "text/plain": [
       "HBox(children=(IntProgress(value=0, max=3), HTML(value='')))"
      ]
     },
     "metadata": {},
     "output_type": "display_data"
    },
    {
     "name": "stdout",
     "output_type": "stream",
     "text": [
      "\n",
      "Processing file:  sound_recordings/metal/metal_cut_7.wav\n"
     ]
    },
    {
     "data": {
      "application/vnd.jupyter.widget-view+json": {
       "model_id": "0e5fb7d9e39541d6a49adebcc08dcb32",
       "version_major": 2,
       "version_minor": 0
      },
      "text/plain": [
       "HBox(children=(IntProgress(value=0, max=3), HTML(value='')))"
      ]
     },
     "metadata": {},
     "output_type": "display_data"
    },
    {
     "name": "stdout",
     "output_type": "stream",
     "text": [
      "\n",
      "Processing file:  sound_recordings/metal/metal_cut_8.wav\n"
     ]
    },
    {
     "data": {
      "application/vnd.jupyter.widget-view+json": {
       "model_id": "000f6dda01cd431c8e80e0834d23aa7f",
       "version_major": 2,
       "version_minor": 0
      },
      "text/plain": [
       "HBox(children=(IntProgress(value=0, max=2), HTML(value='')))"
      ]
     },
     "metadata": {},
     "output_type": "display_data"
    },
    {
     "name": "stdout",
     "output_type": "stream",
     "text": [
      "\n",
      "Processing file:  sound_recordings/metal/metal_cut_9.wav\n"
     ]
    },
    {
     "data": {
      "application/vnd.jupyter.widget-view+json": {
       "model_id": "a8f454b5498849a3a42a337b065d5683",
       "version_major": 2,
       "version_minor": 0
      },
      "text/plain": [
       "HBox(children=(IntProgress(value=0, max=4), HTML(value='')))"
      ]
     },
     "metadata": {},
     "output_type": "display_data"
    },
    {
     "name": "stdout",
     "output_type": "stream",
     "text": [
      "\n",
      "Processing file:  sound_recordings/metal/metal_cut_10.wav\n"
     ]
    },
    {
     "data": {
      "application/vnd.jupyter.widget-view+json": {
       "model_id": "38b6120f8ba748b7b11be557f42b3bbf",
       "version_major": 2,
       "version_minor": 0
      },
      "text/plain": [
       "HBox(children=(IntProgress(value=0, max=3), HTML(value='')))"
      ]
     },
     "metadata": {},
     "output_type": "display_data"
    },
    {
     "name": "stdout",
     "output_type": "stream",
     "text": [
      "\n",
      "Processing file:  sound_recordings/metal/metal_cut_11.wav\n"
     ]
    },
    {
     "data": {
      "application/vnd.jupyter.widget-view+json": {
       "model_id": "7bdbf74b8f844844a235708b46203736",
       "version_major": 2,
       "version_minor": 0
      },
      "text/plain": [
       "HBox(children=(IntProgress(value=0, max=3), HTML(value='')))"
      ]
     },
     "metadata": {},
     "output_type": "display_data"
    },
    {
     "name": "stdout",
     "output_type": "stream",
     "text": [
      "\n",
      "Processing file:  sound_recordings/metal/metal_cut_12.wav\n"
     ]
    },
    {
     "data": {
      "application/vnd.jupyter.widget-view+json": {
       "model_id": "0cf5a494b20244fca5b4eaa8f9879500",
       "version_major": 2,
       "version_minor": 0
      },
      "text/plain": [
       "HBox(children=(IntProgress(value=0, max=3), HTML(value='')))"
      ]
     },
     "metadata": {},
     "output_type": "display_data"
    },
    {
     "name": "stdout",
     "output_type": "stream",
     "text": [
      "\n",
      "Processing file:  sound_recordings/metal/metal_cut_13.wav\n"
     ]
    },
    {
     "data": {
      "application/vnd.jupyter.widget-view+json": {
       "model_id": "3f3e12771cba4c699209d05b484ecd8a",
       "version_major": 2,
       "version_minor": 0
      },
      "text/plain": [
       "HBox(children=(IntProgress(value=0, max=3), HTML(value='')))"
      ]
     },
     "metadata": {},
     "output_type": "display_data"
    },
    {
     "name": "stdout",
     "output_type": "stream",
     "text": [
      "\n",
      "Processing file:  sound_recordings/metal/metal_cut_14.wav\n"
     ]
    },
    {
     "data": {
      "application/vnd.jupyter.widget-view+json": {
       "model_id": "1f75bfcdc4684eda84a38e8947052a07",
       "version_major": 2,
       "version_minor": 0
      },
      "text/plain": [
       "HBox(children=(IntProgress(value=0, max=7), HTML(value='')))"
      ]
     },
     "metadata": {},
     "output_type": "display_data"
    },
    {
     "name": "stdout",
     "output_type": "stream",
     "text": [
      "\n",
      "Processing file:  sound_recordings/metal/metal_cut_auto_1.wav\n"
     ]
    },
    {
     "data": {
      "application/vnd.jupyter.widget-view+json": {
       "model_id": "ed092cc6c02a4d7aaeb534733538eaab",
       "version_major": 2,
       "version_minor": 0
      },
      "text/plain": [
       "HBox(children=(IntProgress(value=0, max=6), HTML(value='')))"
      ]
     },
     "metadata": {},
     "output_type": "display_data"
    },
    {
     "name": "stdout",
     "output_type": "stream",
     "text": [
      "\n",
      "Processing file:  sound_recordings/metal/metal_cut_auto_2.wav\n"
     ]
    },
    {
     "data": {
      "application/vnd.jupyter.widget-view+json": {
       "model_id": "05337b28461f480bb8a456995b5cb1ae",
       "version_major": 2,
       "version_minor": 0
      },
      "text/plain": [
       "HBox(children=(IntProgress(value=0, max=8), HTML(value='')))"
      ]
     },
     "metadata": {},
     "output_type": "display_data"
    },
    {
     "name": "stdout",
     "output_type": "stream",
     "text": [
      "\n",
      "Processing file:  sound_recordings/metal/metal_cut_auto_3.wav\n"
     ]
    },
    {
     "data": {
      "application/vnd.jupyter.widget-view+json": {
       "model_id": "71f2b53a981042d48c3de38a705f7a31",
       "version_major": 2,
       "version_minor": 0
      },
      "text/plain": [
       "HBox(children=(IntProgress(value=0, max=8), HTML(value='')))"
      ]
     },
     "metadata": {},
     "output_type": "display_data"
    },
    {
     "name": "stdout",
     "output_type": "stream",
     "text": [
      "\n",
      "Processing file:  sound_recordings/metal/metal_cut_auto_4.wav\n"
     ]
    },
    {
     "data": {
      "application/vnd.jupyter.widget-view+json": {
       "model_id": "45cf58c092364b3699314a6cd73a52ef",
       "version_major": 2,
       "version_minor": 0
      },
      "text/plain": [
       "HBox(children=(IntProgress(value=0, max=8), HTML(value='')))"
      ]
     },
     "metadata": {},
     "output_type": "display_data"
    },
    {
     "name": "stdout",
     "output_type": "stream",
     "text": [
      "\n",
      "Processing file:  sound_recordings/metal/metal_cut_auto_5.wav\n"
     ]
    },
    {
     "data": {
      "application/vnd.jupyter.widget-view+json": {
       "model_id": "10cb9ccc40cc40a3b8caff85cd47b62b",
       "version_major": 2,
       "version_minor": 0
      },
      "text/plain": [
       "HBox(children=(IntProgress(value=0, max=8), HTML(value='')))"
      ]
     },
     "metadata": {},
     "output_type": "display_data"
    },
    {
     "name": "stdout",
     "output_type": "stream",
     "text": [
      "\n",
      "Processing file:  sound_recordings/metal/metal_cut_auto_6.wav\n"
     ]
    },
    {
     "data": {
      "application/vnd.jupyter.widget-view+json": {
       "model_id": "64a6fc3fd9a946a7922d5d772f7c2418",
       "version_major": 2,
       "version_minor": 0
      },
      "text/plain": [
       "HBox(children=(IntProgress(value=0, max=8), HTML(value='')))"
      ]
     },
     "metadata": {},
     "output_type": "display_data"
    },
    {
     "name": "stdout",
     "output_type": "stream",
     "text": [
      "\n",
      "Processing file:  sound_recordings/metal/metal_cut_auto_7.wav\n"
     ]
    },
    {
     "data": {
      "application/vnd.jupyter.widget-view+json": {
       "model_id": "2bec2a456401472db4d062486af9e0bf",
       "version_major": 2,
       "version_minor": 0
      },
      "text/plain": [
       "HBox(children=(IntProgress(value=0, max=8), HTML(value='')))"
      ]
     },
     "metadata": {},
     "output_type": "display_data"
    },
    {
     "name": "stdout",
     "output_type": "stream",
     "text": [
      "\n",
      "Processing file:  sound_recordings/metal/metal_cut_auto_8.wav\n"
     ]
    },
    {
     "data": {
      "application/vnd.jupyter.widget-view+json": {
       "model_id": "a0a2072bd8ec46ea95c2ae51f725ddbb",
       "version_major": 2,
       "version_minor": 0
      },
      "text/plain": [
       "HBox(children=(IntProgress(value=0, max=8), HTML(value='')))"
      ]
     },
     "metadata": {},
     "output_type": "display_data"
    },
    {
     "name": "stdout",
     "output_type": "stream",
     "text": [
      "\n",
      "Processing file:  sound_recordings/metal/metal_cut_auto_9.wav\n"
     ]
    },
    {
     "data": {
      "application/vnd.jupyter.widget-view+json": {
       "model_id": "b8ba8a0098b5421f84ebc525896c23aa",
       "version_major": 2,
       "version_minor": 0
      },
      "text/plain": [
       "HBox(children=(IntProgress(value=0, max=7), HTML(value='')))"
      ]
     },
     "metadata": {},
     "output_type": "display_data"
    },
    {
     "name": "stdout",
     "output_type": "stream",
     "text": [
      "\n"
     ]
    }
   ],
   "source": [
    "# Specify audio files with abnormal sound recording\n",
    "# Used for testing and validation\n",
    "abnormal_file_dir = 'sound_recordings/metal/'\n",
    "abnormal_files = [\n",
    "    'metal_cut_1.wav',\n",
    "    'metal_cut_2.wav',\n",
    "    'metal_cut_3.wav',\n",
    "    #'metal_cut_4.wav',\n",
    "    'metal_cut_5.wav',\n",
    "    'metal_cut_6.wav',\n",
    "    'metal_cut_7.wav',\n",
    "    'metal_cut_8.wav',\n",
    "    'metal_cut_9.wav',\n",
    "    'metal_cut_10.wav',\n",
    "    'metal_cut_11.wav',\n",
    "    'metal_cut_12.wav',\n",
    "    'metal_cut_13.wav',\n",
    "    'metal_cut_14.wav',\n",
    "    'metal_cut_auto_1.wav',\n",
    "    'metal_cut_auto_2.wav',\n",
    "    'metal_cut_auto_3.wav',\n",
    "    'metal_cut_auto_4.wav',\n",
    "    'metal_cut_auto_5.wav',\n",
    "    'metal_cut_auto_6.wav',\n",
    "    'metal_cut_auto_7.wav',\n",
    "    'metal_cut_auto_8.wav',\n",
    "    'metal_cut_auto_9.wav'\n",
    "]\n",
    "\n",
    "# Append label to each segment\n",
    "X_abnormal = get_files(abnormal_file_dir, abnormal_files)\n",
    "abnormal_labels = np.zeros((X_abnormal.shape[0], 1))\n",
    "X_abnormal = np.hstack((X_abnormal, abnormal_labels))"
   ]
  },
  {
   "cell_type": "code",
   "execution_count": 10,
   "metadata": {},
   "outputs": [
    {
     "name": "stdout",
     "output_type": "stream",
     "text": [
      "Normal data shape:  (1191, 194)\n",
      "Abnormal data shape:  (124, 194)\n",
      "Train data shape:  (728, 193)\n",
      "Train labels shape:  (728,)\n",
      "Validation data shape:  (280, 193)\n",
      "Validation labels shape:  (280,)\n",
      "Test data shape:  (307, 193)\n",
      "Test labels shape:  (307,)\n"
     ]
    }
   ],
   "source": [
    "# Show some output about data\n",
    "print(\"Normal data shape: \", X_normal.shape)\n",
    "print(\"Abnormal data shape: \", X_abnormal.shape)\n",
    "\n",
    "# Split normal data, get training dataset\n",
    "train_mask = np.random.choice([False, True], len(X_normal), p=[0.40, 0.60])\n",
    "X_train = X_normal[train_mask]\n",
    "np.random.shuffle(X_train)\n",
    "X_other = X_normal[~train_mask]\n",
    "\n",
    "# Concatenate remaining normal data (on that's not used for training) and abnormal data\n",
    "X_other_abnormal = np.vstack((X_abnormal, X_other))\n",
    "\n",
    "# Split concatenated data for validation and test, also shuffle data\n",
    "other_abnormal_mask = np.random.choice([False, True], len(X_other_abnormal), p=[0.50, 0.50])\n",
    "X_val = X_other_abnormal[other_abnormal_mask]\n",
    "np.random.shuffle(X_val)\n",
    "X_test = X_other_abnormal[~other_abnormal_mask]\n",
    "np.random.shuffle(X_test)\n",
    "\n",
    "# Separate labels from segment features\n",
    "label_index = 193\n",
    "Y_train = X_train[:, label_index]\n",
    "X_train = X_train[:, 0:label_index]\n",
    "\n",
    "Y_val = X_val[:, label_index]\n",
    "X_val = X_val[:, 0:label_index]\n",
    "\n",
    "Y_test = X_test[:, label_index]\n",
    "X_test = X_test[:, 0:label_index]\n",
    "\n",
    "# Show some output about data\n",
    "print(\"Train data shape: \", X_train.shape)\n",
    "print(\"Train labels shape: \", Y_train.shape)\n",
    "print(\"Validation data shape: \", X_val.shape)\n",
    "print(\"Validation labels shape: \", Y_val.shape)\n",
    "print(\"Test data shape: \", X_test.shape)\n",
    "print(\"Test labels shape: \", Y_test.shape)"
   ]
  },
  {
   "cell_type": "code",
   "execution_count": 11,
   "metadata": {},
   "outputs": [],
   "source": [
    "# Apply standard scaler to the data\n",
    "ss = StandardScaler()\n",
    "ss.fit(X_train)\n",
    "X_train = ss.transform(X_train)\n",
    "X_val = ss.transform(X_val)\n",
    "X_test = ss.transform(X_test)"
   ]
  },
  {
   "cell_type": "code",
   "execution_count": 14,
   "metadata": {},
   "outputs": [
    {
     "name": "stdout",
     "output_type": "stream",
     "text": [
      "Validation accuracy:  0.9964285714285714\n",
      "Test accuracy:  0.9771986970684039\n"
     ]
    }
   ],
   "source": [
    "from sklearn.mixture import GaussianMixture\n",
    "from sklearn.isotonic import IsotonicRegression\n",
    "\n",
    "# Build Gaussian Mixture Model and fit to training set\n",
    "gmm_clf = GaussianMixture(covariance_type='spherical', n_components=10, max_iter=int(1e7))  # Obtained via grid search\n",
    "gmm_clf.fit(X_train)\n",
    "log_probs_val = gmm_clf.score_samples(X_val)\n",
    "# Also build Isotonic Regression for predictions\n",
    "isotonic_regressor = IsotonicRegression(out_of_bounds='clip')\n",
    "isotonic_regressor.fit(log_probs_val, Y_val)  # y_val is for labels 0 - not food 1 - food (validation set)\n",
    "\n",
    "# Obtaining results on the validation set\n",
    "log_probs_val = gmm_clf.score_samples(X_val)\n",
    "val_probabilities = isotonic_regressor.predict(log_probs_val)\n",
    "val_predictions = [1 if prob >= 0.5 else 0 for prob in val_probabilities]\n",
    "\n",
    "# Calculate accuracy metrics\n",
    "val_correct_pred = np.equal(Y_val, val_predictions)\n",
    "val_acc = np.sum(val_correct_pred) / val_correct_pred.shape[0]\n",
    "print(\"Validation accuracy: \", val_acc)\n",
    "\n",
    "# Obtaining results on the test set\n",
    "log_probs_test = gmm_clf.score_samples(X_test)\n",
    "test_probabilities = isotonic_regressor.predict(log_probs_test)\n",
    "test_predictions = [1 if prob >= 0.5 else 0 for prob in test_probabilities]\n",
    "\n",
    "# Calculate accuracy metrics\n",
    "test_correct_pred = np.equal(Y_test, test_predictions)\n",
    "test_acc = np.sum(test_correct_pred) / test_correct_pred.shape[0]\n",
    "print(\"Test accuracy: \", test_acc)\n"
   ]
  },
  {
   "cell_type": "code",
   "execution_count": 13,
   "metadata": {},
   "outputs": [
    {
     "name": "stdout",
     "output_type": "stream",
     "text": [
      "Processing file:  sound_recordings/metal/metal_cut_4.wav\n"
     ]
    },
    {
     "data": {
      "application/vnd.jupyter.widget-view+json": {
       "model_id": "cfea362fe2f44aabaac5f98dfd35546a",
       "version_major": 2,
       "version_minor": 0
      },
      "text/plain": [
       "HBox(children=(IntProgress(value=0, max=4), HTML(value='')))"
      ]
     },
     "metadata": {},
     "output_type": "display_data"
    },
    {
     "name": "stdout",
     "output_type": "stream",
     "text": [
      "\n",
      "[0, 0, 0, 0]\n"
     ]
    }
   ],
   "source": [
    "# Also test our model with a file that was not before inside of any dataset\n",
    "unseen_data = get_files(abnormal_file_dir, ['metal_cut_4.wav'])  # abnormal audio recording\n",
    "log_probs_unseen = gmm_clf.score_samples(unseen_data)\n",
    "unseen_probabilities = isotonic_regressor.predict(log_probs_unseen)\n",
    "unseen_predictions = [1 if prob >= 0.5 else 0 for prob in unseen_probabilities]\n",
    "print(unseen_predictions) # all should be 0 (abnormal data)"
   ]
  }
 ],
 "metadata": {
  "kernelspec": {
   "display_name": "Python 3",
   "language": "python",
   "name": "python3"
  },
  "language_info": {
   "codemirror_mode": {
    "name": "ipython",
    "version": 3
   },
   "file_extension": ".py",
   "mimetype": "text/x-python",
   "name": "python",
   "nbconvert_exporter": "python",
   "pygments_lexer": "ipython3",
   "version": "3.6.7"
  }
 },
 "nbformat": 4,
 "nbformat_minor": 2
}
